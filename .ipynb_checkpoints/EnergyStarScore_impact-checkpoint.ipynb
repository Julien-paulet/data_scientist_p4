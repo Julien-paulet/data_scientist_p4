{
 "cells": [
  {
   "cell_type": "code",
   "execution_count": 1,
   "metadata": {},
   "outputs": [],
   "source": [
    "import pandas as pd\n",
    "import numpy as np\n",
    "import statsmodels.api as sm\n",
    "import statsmodels.formula.api as smf\n",
    "import matplotlib.pyplot as plt"
   ]
  },
  {
   "cell_type": "markdown",
   "metadata": {},
   "source": [
    "# Import des données"
   ]
  },
  {
   "cell_type": "code",
   "execution_count": 2,
   "metadata": {},
   "outputs": [],
   "source": [
    "data_quanti = pd.read_csv('files_cleaned/data_quanti.csv')\n",
    "data_quali = pd.read_csv('files_cleaned/data_quali.csv')\n",
    "data_quanti = data_quanti.drop(columns=['Unnamed: 0'])"
   ]
  },
  {
   "cell_type": "markdown",
   "metadata": {},
   "source": [
    "# Mise en place d'une fonction d'erreur"
   ]
  },
  {
   "cell_type": "code",
   "execution_count": 3,
   "metadata": {},
   "outputs": [],
   "source": [
    "from sklearn.metrics import mean_squared_error\n",
    "from sklearn.metrics import median_absolute_error\n",
    "from sklearn.metrics import mean_absolute_error"
   ]
  },
  {
   "cell_type": "code",
   "execution_count": 4,
   "metadata": {},
   "outputs": [],
   "source": [
    "saved_errors = pd.DataFrame(columns=['Modèle', 'MSE', 'Med_abs_error', 'mean_abs_error'])"
   ]
  },
  {
   "cell_type": "code",
   "execution_count": 5,
   "metadata": {},
   "outputs": [],
   "source": [
    "def error_metric(modele_name, y_test, y_predict, saved=False):\n",
    "    #Calcul des métriques : \n",
    "    mse = np.sqrt(mean_squared_error(y_test, y_predict))\n",
    "    mae = median_absolute_error(y_test, y_predict)\n",
    "    mean_abs_error = mean_absolute_error(y_test, y_predict)\n",
    "    #Enregistrement dans un dataframe\n",
    "    if saved == True:\n",
    "        err = [modele_name, mse, mae, mean_abs_error]\n",
    "        saved_errors.loc[len(saved_errors)] = err\n",
    "    #Return la métrique\n",
    "    return mae"
   ]
  },
  {
   "cell_type": "markdown",
   "metadata": {},
   "source": [
    "# TotalGHGEmissions"
   ]
  },
  {
   "cell_type": "code",
   "execution_count": 6,
   "metadata": {},
   "outputs": [],
   "source": [
    "target = \"TotalGHGEmissions\""
   ]
  },
  {
   "cell_type": "code",
   "execution_count": 7,
   "metadata": {},
   "outputs": [],
   "source": [
    "data_quanti = data_quanti.dropna(subset=[target, 'ENERGYSTARScore'])"
   ]
  },
  {
   "cell_type": "code",
   "execution_count": 8,
   "metadata": {},
   "outputs": [],
   "source": [
    "x = data_quanti.drop(columns=[\"SiteEnergyUseWN(kBtu)\", \"TotalGHGEmissions\",\n",
    "                              \"SiteEnergyUse(kBtu)\", 'GHGEmissionsIntensity', \n",
    "                              'Electricity(kWh)', 'Electricity(kBtu)',\n",
    "                              'NaturalGas(kBtu)', 'NaturalGas(therms)',\n",
    "                              'SiteEnergyUseWN(kBtu)', 'SiteEUIWN(kBtu/sf)',\n",
    "                              'SourceEUI(kBtu/sf)', 'SourceEUIWN(kBtu/sf)',\n",
    "                              'SteamUse(kBtu)', 'OSEBuildingID', 'DataYear',\n",
    "                              'ENERGYSTARScore'])\n",
    "y = data_quanti[[target]]"
   ]
  },
  {
   "cell_type": "code",
   "execution_count": 9,
   "metadata": {},
   "outputs": [],
   "source": [
    "x = x.fillna(x.mean())\n",
    "y = y.astype(int)"
   ]
  },
  {
   "cell_type": "markdown",
   "metadata": {},
   "source": [
    "## Division des datasets en deux "
   ]
  },
  {
   "cell_type": "code",
   "execution_count": 10,
   "metadata": {},
   "outputs": [],
   "source": [
    "from sklearn.model_selection import train_test_split"
   ]
  },
  {
   "cell_type": "code",
   "execution_count": 11,
   "metadata": {},
   "outputs": [],
   "source": [
    "x_train, x_test, y_train, y_test = train_test_split(x, y, test_size=0.2)"
   ]
  },
  {
   "cell_type": "code",
   "execution_count": 12,
   "metadata": {},
   "outputs": [],
   "source": [
    "from sklearn import preprocessing\n",
    "std_scale = preprocessing.StandardScaler().fit(x_train)\n",
    "x_train = std_scale.transform(x_train)\n",
    "x_test = std_scale.transform(x_test)  "
   ]
  },
  {
   "cell_type": "markdown",
   "metadata": {},
   "source": [
    "## Mise en place d'une baseline"
   ]
  },
  {
   "cell_type": "code",
   "execution_count": null,
   "metadata": {},
   "outputs": [],
   "source": []
  },
  {
   "cell_type": "markdown",
   "metadata": {},
   "source": [
    "## Random Forest"
   ]
  },
  {
   "cell_type": "markdown",
   "metadata": {},
   "source": [
    "Préparation des données"
   ]
  },
  {
   "cell_type": "code",
   "execution_count": 13,
   "metadata": {},
   "outputs": [],
   "source": [
    "x_train = np.array(x_train)\n",
    "x_test = np.array(x_test)\n",
    "\n",
    "y_train = np.array(y_train)\n",
    "y_test = np.array(y_test)"
   ]
  },
  {
   "cell_type": "code",
   "execution_count": 14,
   "metadata": {},
   "outputs": [],
   "source": [
    "from sklearn.ensemble import RandomForestRegressor\n",
    "from sklearn.feature_selection import SelectFromModel"
   ]
  },
  {
   "cell_type": "code",
   "execution_count": 15,
   "metadata": {},
   "outputs": [
    {
     "name": "stderr",
     "output_type": "stream",
     "text": [
      "C:\\Users\\jpaul\\Anaconda3\\lib\\site-packages\\ipykernel_launcher.py:2: DataConversionWarning: A column-vector y was passed when a 1d array was expected. Please change the shape of y to (n_samples,), for example using ravel().\n",
      "  \n",
      "C:\\Users\\jpaul\\Anaconda3\\lib\\site-packages\\ipykernel_launcher.py:6: DataConversionWarning: A column-vector y was passed when a 1d array was expected. Please change the shape of y to (n_samples,), for example using ravel().\n",
      "  \n"
     ]
    },
    {
     "data": {
      "text/plain": [
       "9.045499999999997"
      ]
     },
     "execution_count": 15,
     "metadata": {},
     "output_type": "execute_result"
    }
   ],
   "source": [
    "rf = RandomForestRegressor(n_estimators = 1000, random_state = 42)\n",
    "rf.fit(x_train, y_train)\n",
    "select = SelectFromModel(rf, prefit=True, threshold=0.003)\n",
    "x_train2 = select.transform(x_train)\n",
    "x_test2 = select.transform(x_test)\n",
    "rf.fit(x_train2, y_train)\n",
    "y_predict = rf.predict(x_test2)\n",
    "error_metric('Random_forest Opti', y_test, y_predict, saved=True)"
   ]
  },
  {
   "cell_type": "markdown",
   "metadata": {},
   "source": [
    "Il y a donc une amélioration du modèle en utilisant l'energy star score"
   ]
  },
  {
   "cell_type": "markdown",
   "metadata": {},
   "source": [
    "# SiteEnergyUse(kBtu)"
   ]
  },
  {
   "cell_type": "code",
   "execution_count": 16,
   "metadata": {},
   "outputs": [],
   "source": [
    "target = \"SiteEnergyUse(kBtu)\""
   ]
  },
  {
   "cell_type": "code",
   "execution_count": 17,
   "metadata": {},
   "outputs": [],
   "source": [
    "data_quanti = data_quanti.dropna(subset=[target, 'ENERGYSTARScore'])"
   ]
  },
  {
   "cell_type": "code",
   "execution_count": 18,
   "metadata": {},
   "outputs": [],
   "source": [
    "x = data_quanti.drop(columns=[\"SiteEnergyUseWN(kBtu)\", \"TotalGHGEmissions\",\n",
    "                              \"SiteEnergyUse(kBtu)\", 'GHGEmissionsIntensity', \n",
    "                              'Electricity(kWh)', 'Electricity(kBtu)',\n",
    "                              'NaturalGas(kBtu)', 'NaturalGas(therms)',\n",
    "                              'SiteEnergyUseWN(kBtu)', 'SiteEUIWN(kBtu/sf)',\n",
    "                              'SourceEUI(kBtu/sf)', 'SourceEUIWN(kBtu/sf)',\n",
    "                              'SteamUse(kBtu)', 'OSEBuildingID', 'DataYear',\n",
    "                              'ENERGYSTARScore'])\n",
    "y = data_quanti[[target]]"
   ]
  },
  {
   "cell_type": "code",
   "execution_count": 19,
   "metadata": {},
   "outputs": [],
   "source": [
    "x = x.fillna(x.mean())\n",
    "y = y.astype(int)"
   ]
  },
  {
   "cell_type": "markdown",
   "metadata": {},
   "source": [
    "## Division du dataset en deux"
   ]
  },
  {
   "cell_type": "code",
   "execution_count": 20,
   "metadata": {},
   "outputs": [],
   "source": [
    "x_train, x_test, y_train, y_test = train_test_split(x, y, test_size=0.2)"
   ]
  },
  {
   "cell_type": "code",
   "execution_count": 21,
   "metadata": {},
   "outputs": [],
   "source": [
    "std_scale = preprocessing.StandardScaler().fit(x_train)\n",
    "x_train = std_scale.transform(x_train)\n",
    "x_test = std_scale.transform(x_test) "
   ]
  },
  {
   "cell_type": "markdown",
   "metadata": {},
   "source": [
    "## Mise en place d'une baseline"
   ]
  },
  {
   "cell_type": "code",
   "execution_count": null,
   "metadata": {},
   "outputs": [],
   "source": []
  },
  {
   "cell_type": "markdown",
   "metadata": {},
   "source": [
    "## Random Forest"
   ]
  },
  {
   "cell_type": "code",
   "execution_count": 22,
   "metadata": {},
   "outputs": [],
   "source": [
    "x_train = np.array(x_train)\n",
    "x_test = np.array(x_test)\n",
    "\n",
    "y_train = np.array(y_train)\n",
    "y_test = np.array(y_test)"
   ]
  },
  {
   "cell_type": "code",
   "execution_count": 23,
   "metadata": {},
   "outputs": [
    {
     "name": "stderr",
     "output_type": "stream",
     "text": [
      "C:\\Users\\jpaul\\Anaconda3\\lib\\site-packages\\ipykernel_launcher.py:2: DataConversionWarning: A column-vector y was passed when a 1d array was expected. Please change the shape of y to (n_samples,), for example using ravel().\n",
      "  \n",
      "C:\\Users\\jpaul\\Anaconda3\\lib\\site-packages\\ipykernel_launcher.py:6: DataConversionWarning: A column-vector y was passed when a 1d array was expected. Please change the shape of y to (n_samples,), for example using ravel().\n",
      "  \n"
     ]
    },
    {
     "data": {
      "text/plain": [
       "44676.51399999991"
      ]
     },
     "execution_count": 23,
     "metadata": {},
     "output_type": "execute_result"
    }
   ],
   "source": [
    "rf = RandomForestRegressor(n_estimators = 1000, random_state = 42)\n",
    "rf.fit(x_train, y_train)\n",
    "select = SelectFromModel(rf, prefit=True, threshold=0.003)\n",
    "x_train2 = select.transform(x_train)\n",
    "x_test2 = select.transform(x_test)\n",
    "rf.fit(x_train2, y_train)\n",
    "y_predict = rf.predict(x_test2)\n",
    "error_metric('Random_forest Opti', y_test, y_predict, saved=True)"
   ]
  },
  {
   "cell_type": "markdown",
   "metadata": {},
   "source": [
    "Il y a donc une amélioration du modèle en utilisant l'energy star score"
   ]
  }
 ],
 "metadata": {
  "kernelspec": {
   "display_name": "Python 3",
   "language": "python",
   "name": "python3"
  },
  "language_info": {
   "codemirror_mode": {
    "name": "ipython",
    "version": 3
   },
   "file_extension": ".py",
   "mimetype": "text/x-python",
   "name": "python",
   "nbconvert_exporter": "python",
   "pygments_lexer": "ipython3",
   "version": "3.7.1"
  },
  "toc": {
   "base_numbering": 1,
   "nav_menu": {},
   "number_sections": true,
   "sideBar": true,
   "skip_h1_title": false,
   "title_cell": "Table of Contents",
   "title_sidebar": "Contents",
   "toc_cell": false,
   "toc_position": {},
   "toc_section_display": true,
   "toc_window_display": false
  }
 },
 "nbformat": 4,
 "nbformat_minor": 2
}
