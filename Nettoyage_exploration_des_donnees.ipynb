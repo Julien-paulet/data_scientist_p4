{
 "cells": [
  {
   "cell_type": "code",
   "execution_count": 1,
   "metadata": {},
   "outputs": [],
   "source": [
    "import pandas as pd\n",
    "import numpy as np\n",
    "import matplotlib.pyplot as plt\n",
    "import seaborn as sns\n",
    "\n",
    "#Importons aussi notre fonction de recherche de description dans les metadatas :\n",
    "from description import search_desc"
   ]
  },
  {
   "cell_type": "markdown",
   "metadata": {},
   "source": [
    "# Import des données"
   ]
  },
  {
   "cell_type": "code",
   "execution_count": 2,
   "metadata": {},
   "outputs": [],
   "source": [
    "data_2015 = pd.read_csv('2015-building-energy-benchmarking.csv')\n",
    "data_2016 = pd.read_csv('2016-building-energy-benchmarking.csv')"
   ]
  },
  {
   "cell_type": "markdown",
   "metadata": {},
   "source": [
    "# Nettoyage"
   ]
  },
  {
   "cell_type": "markdown",
   "metadata": {},
   "source": [
    "## Traitement des colonnes différentes pour 2015 et 2016"
   ]
  },
  {
   "cell_type": "code",
   "execution_count": 3,
   "metadata": {},
   "outputs": [
    {
     "data": {
      "text/plain": [
       "Index(['Location', 'OtherFuelUse(kBtu)', 'GHGEmissions(MetricTonsCO2e)',\n",
       "       'GHGEmissionsIntensity(kgCO2e/ft2)', 'Comment', '2010 Census Tracts',\n",
       "       'Seattle Police Department Micro Community Policing Plan Areas',\n",
       "       'City Council Districts', 'SPD Beats', 'Zip Codes'],\n",
       "      dtype='object')"
      ]
     },
     "execution_count": 3,
     "metadata": {},
     "output_type": "execute_result"
    }
   ],
   "source": [
    "data_2015.columns[~data_2015.columns.isin(data_2016.columns)]"
   ]
  },
  {
   "cell_type": "code",
   "execution_count": 4,
   "metadata": {},
   "outputs": [
    {
     "data": {
      "text/plain": [
       "Index(['Address', 'City', 'State', 'ZipCode', 'Latitude', 'Longitude',\n",
       "       'Comments', 'TotalGHGEmissions', 'GHGEmissionsIntensity'],\n",
       "      dtype='object')"
      ]
     },
     "execution_count": 4,
     "metadata": {},
     "output_type": "execute_result"
    }
   ],
   "source": [
    "data_2016.columns[~data_2016.columns.isin(data_2015.columns)]"
   ]
  },
  {
   "cell_type": "code",
   "execution_count": 5,
   "metadata": {},
   "outputs": [],
   "source": [
    "# Tout d'abord les colonnes n'ayant pas le même nom mais représentant la même chose : \n",
    "data_2015 = data_2015.rename(columns = {'Zip Codes':'ZipCode', \n",
    "                                        'GHGEmissionsIntensity(kgCO2e/ft2)':'GHGEmissionsIntensity',\n",
    "                                       'GHGEmissions(MetricTonsCO2e)':'TotalGHGEmissions',\n",
    "                                       })\n",
    "\n",
    "#Puis la colonne Location en 2015 qui contient en fait la latitude/longitude ; \n",
    "data_2015['lat_lon'] = data_2015['Location'].str.rsplit(',').str[0:2]\n",
    "data_2015['Latitude'] = data_2015['lat_lon'].str[0].str.split(':').str[1]\n",
    "data_2015['Longitude'] = data_2015['lat_lon'].str[1].str.split(':').str[1]\n",
    "\n",
    "#Puis la colonne addresse : \n",
    "data_2015['Address'] = data_2015['Location'].str.rsplit(',').str[2]\n",
    "data_2015['Address'] = data_2015['Address'].str.rsplit(':').str[2]\n",
    "\n",
    "#Enfin, on delete les colonnes inutiles\n",
    "data_2015 = data_2015.drop(columns=['lat_lon', 'Location'])"
   ]
  },
  {
   "cell_type": "markdown",
   "metadata": {},
   "source": [
    "## Concat pour avoir un seul jeu de données"
   ]
  },
  {
   "cell_type": "code",
   "execution_count": 6,
   "metadata": {},
   "outputs": [],
   "source": [
    "data = pd.concat([data_2016, data_2015], sort=True, join='inner')"
   ]
  },
  {
   "cell_type": "code",
   "execution_count": 7,
   "metadata": {},
   "outputs": [
    {
     "data": {
      "text/html": [
       "<div>\n",
       "<style scoped>\n",
       "    .dataframe tbody tr th:only-of-type {\n",
       "        vertical-align: middle;\n",
       "    }\n",
       "\n",
       "    .dataframe tbody tr th {\n",
       "        vertical-align: top;\n",
       "    }\n",
       "\n",
       "    .dataframe thead th {\n",
       "        text-align: right;\n",
       "    }\n",
       "</style>\n",
       "<table border=\"1\" class=\"dataframe\">\n",
       "  <thead>\n",
       "    <tr style=\"text-align: right;\">\n",
       "      <th></th>\n",
       "      <th>Address</th>\n",
       "      <th>BuildingType</th>\n",
       "      <th>ComplianceStatus</th>\n",
       "      <th>CouncilDistrictCode</th>\n",
       "      <th>DataYear</th>\n",
       "      <th>DefaultData</th>\n",
       "      <th>ENERGYSTARScore</th>\n",
       "      <th>Electricity(kBtu)</th>\n",
       "      <th>Electricity(kWh)</th>\n",
       "      <th>GHGEmissionsIntensity</th>\n",
       "      <th>...</th>\n",
       "      <th>SourceEUI(kBtu/sf)</th>\n",
       "      <th>SourceEUIWN(kBtu/sf)</th>\n",
       "      <th>SteamUse(kBtu)</th>\n",
       "      <th>TaxParcelIdentificationNumber</th>\n",
       "      <th>ThirdLargestPropertyUseType</th>\n",
       "      <th>ThirdLargestPropertyUseTypeGFA</th>\n",
       "      <th>TotalGHGEmissions</th>\n",
       "      <th>YearBuilt</th>\n",
       "      <th>YearsENERGYSTARCertified</th>\n",
       "      <th>ZipCode</th>\n",
       "    </tr>\n",
       "  </thead>\n",
       "  <tbody>\n",
       "    <tr>\n",
       "      <th>0</th>\n",
       "      <td>405 Olive way</td>\n",
       "      <td>NonResidential</td>\n",
       "      <td>Compliant</td>\n",
       "      <td>7</td>\n",
       "      <td>2016</td>\n",
       "      <td>False</td>\n",
       "      <td>60.0</td>\n",
       "      <td>3946027.0</td>\n",
       "      <td>1.156514e+06</td>\n",
       "      <td>2.83</td>\n",
       "      <td>...</td>\n",
       "      <td>182.500000</td>\n",
       "      <td>189.000000</td>\n",
       "      <td>2003882.00</td>\n",
       "      <td>0659000030</td>\n",
       "      <td>NaN</td>\n",
       "      <td>NaN</td>\n",
       "      <td>249.98</td>\n",
       "      <td>1927</td>\n",
       "      <td>NaN</td>\n",
       "      <td>98101.0</td>\n",
       "    </tr>\n",
       "    <tr>\n",
       "      <th>1</th>\n",
       "      <td>724 Pine street</td>\n",
       "      <td>NonResidential</td>\n",
       "      <td>Compliant</td>\n",
       "      <td>7</td>\n",
       "      <td>2016</td>\n",
       "      <td>False</td>\n",
       "      <td>61.0</td>\n",
       "      <td>3242851.0</td>\n",
       "      <td>9.504252e+05</td>\n",
       "      <td>2.86</td>\n",
       "      <td>...</td>\n",
       "      <td>176.100006</td>\n",
       "      <td>179.399994</td>\n",
       "      <td>0.00</td>\n",
       "      <td>0659000220</td>\n",
       "      <td>Restaurant</td>\n",
       "      <td>4622.0</td>\n",
       "      <td>295.86</td>\n",
       "      <td>1996</td>\n",
       "      <td>NaN</td>\n",
       "      <td>98101.0</td>\n",
       "    </tr>\n",
       "    <tr>\n",
       "      <th>2</th>\n",
       "      <td>1900 5th Avenue</td>\n",
       "      <td>NonResidential</td>\n",
       "      <td>Compliant</td>\n",
       "      <td>7</td>\n",
       "      <td>2016</td>\n",
       "      <td>False</td>\n",
       "      <td>43.0</td>\n",
       "      <td>49526664.0</td>\n",
       "      <td>1.451544e+07</td>\n",
       "      <td>2.19</td>\n",
       "      <td>...</td>\n",
       "      <td>241.899994</td>\n",
       "      <td>244.100006</td>\n",
       "      <td>21566554.00</td>\n",
       "      <td>0659000475</td>\n",
       "      <td>NaN</td>\n",
       "      <td>NaN</td>\n",
       "      <td>2089.28</td>\n",
       "      <td>1969</td>\n",
       "      <td>NaN</td>\n",
       "      <td>98101.0</td>\n",
       "    </tr>\n",
       "    <tr>\n",
       "      <th>3</th>\n",
       "      <td>620 STEWART ST</td>\n",
       "      <td>NonResidential</td>\n",
       "      <td>Compliant</td>\n",
       "      <td>7</td>\n",
       "      <td>2016</td>\n",
       "      <td>False</td>\n",
       "      <td>56.0</td>\n",
       "      <td>2768924.0</td>\n",
       "      <td>8.115253e+05</td>\n",
       "      <td>4.67</td>\n",
       "      <td>...</td>\n",
       "      <td>216.199997</td>\n",
       "      <td>224.000000</td>\n",
       "      <td>2214446.25</td>\n",
       "      <td>0659000640</td>\n",
       "      <td>NaN</td>\n",
       "      <td>NaN</td>\n",
       "      <td>286.43</td>\n",
       "      <td>1926</td>\n",
       "      <td>NaN</td>\n",
       "      <td>98101.0</td>\n",
       "    </tr>\n",
       "    <tr>\n",
       "      <th>4</th>\n",
       "      <td>401 LENORA ST</td>\n",
       "      <td>NonResidential</td>\n",
       "      <td>Compliant</td>\n",
       "      <td>7</td>\n",
       "      <td>2016</td>\n",
       "      <td>False</td>\n",
       "      <td>75.0</td>\n",
       "      <td>5368607.0</td>\n",
       "      <td>1.573449e+06</td>\n",
       "      <td>2.88</td>\n",
       "      <td>...</td>\n",
       "      <td>211.399994</td>\n",
       "      <td>215.600006</td>\n",
       "      <td>0.00</td>\n",
       "      <td>0659000970</td>\n",
       "      <td>Swimming Pool</td>\n",
       "      <td>0.0</td>\n",
       "      <td>505.01</td>\n",
       "      <td>1980</td>\n",
       "      <td>NaN</td>\n",
       "      <td>98121.0</td>\n",
       "    </tr>\n",
       "  </tbody>\n",
       "</table>\n",
       "<p>5 rows × 43 columns</p>\n",
       "</div>"
      ],
      "text/plain": [
       "           Address    BuildingType ComplianceStatus  CouncilDistrictCode  \\\n",
       "0    405 Olive way  NonResidential        Compliant                    7   \n",
       "1  724 Pine street  NonResidential        Compliant                    7   \n",
       "2  1900 5th Avenue  NonResidential        Compliant                    7   \n",
       "3   620 STEWART ST  NonResidential        Compliant                    7   \n",
       "4    401 LENORA ST  NonResidential        Compliant                    7   \n",
       "\n",
       "   DataYear DefaultData  ENERGYSTARScore  Electricity(kBtu)  Electricity(kWh)  \\\n",
       "0      2016       False             60.0          3946027.0      1.156514e+06   \n",
       "1      2016       False             61.0          3242851.0      9.504252e+05   \n",
       "2      2016       False             43.0         49526664.0      1.451544e+07   \n",
       "3      2016       False             56.0          2768924.0      8.115253e+05   \n",
       "4      2016       False             75.0          5368607.0      1.573449e+06   \n",
       "\n",
       "   GHGEmissionsIntensity   ...    SourceEUI(kBtu/sf)  SourceEUIWN(kBtu/sf)  \\\n",
       "0                   2.83   ...            182.500000            189.000000   \n",
       "1                   2.86   ...            176.100006            179.399994   \n",
       "2                   2.19   ...            241.899994            244.100006   \n",
       "3                   4.67   ...            216.199997            224.000000   \n",
       "4                   2.88   ...            211.399994            215.600006   \n",
       "\n",
       "  SteamUse(kBtu) TaxParcelIdentificationNumber ThirdLargestPropertyUseType  \\\n",
       "0     2003882.00                    0659000030                         NaN   \n",
       "1           0.00                    0659000220                  Restaurant   \n",
       "2    21566554.00                    0659000475                         NaN   \n",
       "3     2214446.25                    0659000640                         NaN   \n",
       "4           0.00                    0659000970               Swimming Pool   \n",
       "\n",
       "   ThirdLargestPropertyUseTypeGFA  TotalGHGEmissions YearBuilt  \\\n",
       "0                             NaN             249.98      1927   \n",
       "1                          4622.0             295.86      1996   \n",
       "2                             NaN            2089.28      1969   \n",
       "3                             NaN             286.43      1926   \n",
       "4                             0.0             505.01      1980   \n",
       "\n",
       "   YearsENERGYSTARCertified  ZipCode  \n",
       "0                       NaN  98101.0  \n",
       "1                       NaN  98101.0  \n",
       "2                       NaN  98101.0  \n",
       "3                       NaN  98101.0  \n",
       "4                       NaN  98121.0  \n",
       "\n",
       "[5 rows x 43 columns]"
      ]
     },
     "execution_count": 7,
     "metadata": {},
     "output_type": "execute_result"
    }
   ],
   "source": [
    "data.head()"
   ]
  },
  {
   "cell_type": "code",
   "execution_count": 8,
   "metadata": {},
   "outputs": [
    {
     "data": {
      "text/plain": [
       "(6716, 43)"
      ]
     },
     "execution_count": 8,
     "metadata": {},
     "output_type": "execute_result"
    }
   ],
   "source": [
    "data.shape"
   ]
  },
  {
   "cell_type": "markdown",
   "metadata": {},
   "source": [
    "On reset les index (venant de deux fichiers différents cela va poser problème par la suite sinon)"
   ]
  },
  {
   "cell_type": "code",
   "execution_count": 9,
   "metadata": {},
   "outputs": [],
   "source": [
    "data = data.reset_index().drop(columns=['index'])"
   ]
  },
  {
   "cell_type": "markdown",
   "metadata": {},
   "source": [
    "## Gestion des doublons"
   ]
  },
  {
   "cell_type": "code",
   "execution_count": 10,
   "metadata": {},
   "outputs": [
    {
     "data": {
      "text/plain": [
       "(54, 2)"
      ]
     },
     "execution_count": 10,
     "metadata": {},
     "output_type": "execute_result"
    }
   ],
   "source": [
    "doublon = data.groupby(['Address'])['DefaultData'].count()\n",
    "doublon = doublon.reset_index()\n",
    "doublon = doublon[doublon['DefaultData'] > 1]\n",
    "doublon.shape"
   ]
  },
  {
   "cell_type": "markdown",
   "metadata": {},
   "source": [
    "54 buildings sont donc comptés plusieurs fois dans le jeu de données, supprimons les duplicates"
   ]
  },
  {
   "cell_type": "code",
   "execution_count": 11,
   "metadata": {},
   "outputs": [],
   "source": [
    "data = data.drop_duplicates(subset = 'Address')"
   ]
  },
  {
   "cell_type": "markdown",
   "metadata": {},
   "source": [
    "## Variables cibles (à changer de categories après)"
   ]
  },
  {
   "cell_type": "code",
   "execution_count": 12,
   "metadata": {},
   "outputs": [
    {
     "data": {
      "text/plain": [
       "'The annual amount of energy consumed by the property from all sources of energy, adjusted to what the property would have consumed during 30-year average weather conditions.'"
      ]
     },
     "execution_count": 12,
     "metadata": {},
     "output_type": "execute_result"
    }
   ],
   "source": [
    "search_desc(\"SiteEnergyUseWN(kBtu)\", 2016)"
   ]
  },
  {
   "cell_type": "code",
   "execution_count": 13,
   "metadata": {},
   "outputs": [
    {
     "data": {
      "text/plain": [
       "\"The total amount of greenhouse gas emissions, including carbon dioxide, methane, and nitrous oxide gases released into the atmosphere as a result of energy consumption at the property, measured in metric tons of carbon dioxide equivalent. This calculation uses a GHG emissions factor from Seattle CIty Light's portfolio of generating resources. This uses Seattle City Light's 2015 emissions factor of 52.44 lbs CO2e/MWh until the 2016 factor is available. Enwave steam factor = 170.17 lbs CO2e/MMBtu. Gas factor sourced from EPA Portfolio Manager = 53.11 kg CO2e/MBtu. \""
      ]
     },
     "execution_count": 13,
     "metadata": {},
     "output_type": "execute_result"
    }
   ],
   "source": [
    "search_desc(\"TotalGHGEmissions\", 2016)"
   ]
  },
  {
   "cell_type": "markdown",
   "metadata": {},
   "source": [
    "On a désormais nos deux variables cible : SiteEnergyUseWN(kBtu) et TotalGHGEmissions"
   ]
  },
  {
   "cell_type": "code",
   "execution_count": 14,
   "metadata": {},
   "outputs": [],
   "source": [
    "# Col useless : \n",
    "# SecondLargestPropertyUseType, SecondLargestPropertyUseTypeGFA, OSEBuildingID, ListOfAllPropertyUseTypes,\n",
    "# LargestPropertyUseTypeGFA, LargestPropertyUseType, Electricity(kBtu), "
   ]
  },
  {
   "cell_type": "code",
   "execution_count": 15,
   "metadata": {},
   "outputs": [],
   "source": [
    "#Variable cible 1 : \n",
    "#data_2016[\"Electricity(kWh)\"] ?? Ou bien data_2016[\"SiteEnergyUseWN(kBtu)\"], NaturalGas(kBtu) ? all ?\n",
    "\n",
    "#Variable cible 2 : \n",
    "#data_2016[\"TotalGHGEmissions\"] ??"
   ]
  },
  {
   "cell_type": "markdown",
   "metadata": {},
   "source": [
    "## Gestion des valeurs manquantes"
   ]
  },
  {
   "cell_type": "markdown",
   "metadata": {},
   "source": [
    "### Plus de 50% des valeurs manquantes "
   ]
  },
  {
   "cell_type": "code",
   "execution_count": 16,
   "metadata": {},
   "outputs": [
    {
     "data": {
      "text/plain": [
       "(6633, 37)"
      ]
     },
     "execution_count": 16,
     "metadata": {},
     "output_type": "execute_result"
    }
   ],
   "source": [
    "# On utilise une boucle pour récupérer le taux de valeurs manquantes\n",
    "taille = len(data)\n",
    "nulle = []\n",
    "for i in data.columns:\n",
    "    nbr = len(data[i])-len(data[i].dropna())\n",
    "    taux = nbr/taille*100\n",
    "    col = data[i]\n",
    "    if taux >= 50:\n",
    "        del data[i] #On enlève ensuite les colonnes possédant + de 50% de valeurs manquantes\n",
    "\n",
    "data.shape"
   ]
  },
  {
   "cell_type": "markdown",
   "metadata": {},
   "source": [
    "6 colonnes ont été retirées"
   ]
  },
  {
   "cell_type": "markdown",
   "metadata": {},
   "source": [
    "### Moins de 50% de valeurs manquantes"
   ]
  },
  {
   "cell_type": "code",
   "execution_count": null,
   "metadata": {},
   "outputs": [],
   "source": []
  },
  {
   "cell_type": "markdown",
   "metadata": {},
   "source": [
    "## Apperçu des données"
   ]
  },
  {
   "cell_type": "code",
   "execution_count": 17,
   "metadata": {},
   "outputs": [
    {
     "data": {
      "text/html": [
       "<div>\n",
       "<style scoped>\n",
       "    .dataframe tbody tr th:only-of-type {\n",
       "        vertical-align: middle;\n",
       "    }\n",
       "\n",
       "    .dataframe tbody tr th {\n",
       "        vertical-align: top;\n",
       "    }\n",
       "\n",
       "    .dataframe thead th {\n",
       "        text-align: right;\n",
       "    }\n",
       "</style>\n",
       "<table border=\"1\" class=\"dataframe\">\n",
       "  <thead>\n",
       "    <tr style=\"text-align: right;\">\n",
       "      <th></th>\n",
       "      <th>CouncilDistrictCode</th>\n",
       "      <th>DataYear</th>\n",
       "      <th>ENERGYSTARScore</th>\n",
       "      <th>Electricity(kBtu)</th>\n",
       "      <th>Electricity(kWh)</th>\n",
       "      <th>GHGEmissionsIntensity</th>\n",
       "      <th>LargestPropertyUseTypeGFA</th>\n",
       "      <th>NaturalGas(kBtu)</th>\n",
       "      <th>NaturalGas(therms)</th>\n",
       "      <th>NumberofBuildings</th>\n",
       "      <th>...</th>\n",
       "      <th>SiteEUI(kBtu/sf)</th>\n",
       "      <th>SiteEUIWN(kBtu/sf)</th>\n",
       "      <th>SiteEnergyUse(kBtu)</th>\n",
       "      <th>SiteEnergyUseWN(kBtu)</th>\n",
       "      <th>SourceEUI(kBtu/sf)</th>\n",
       "      <th>SourceEUIWN(kBtu/sf)</th>\n",
       "      <th>SteamUse(kBtu)</th>\n",
       "      <th>TotalGHGEmissions</th>\n",
       "      <th>YearBuilt</th>\n",
       "      <th>ZipCode</th>\n",
       "    </tr>\n",
       "  </thead>\n",
       "  <tbody>\n",
       "    <tr>\n",
       "      <th>count</th>\n",
       "      <td>6633.000000</td>\n",
       "      <td>6633.000000</td>\n",
       "      <td>5040.000000</td>\n",
       "      <td>6.614000e+03</td>\n",
       "      <td>6.614000e+03</td>\n",
       "      <td>6614.000000</td>\n",
       "      <td>6.480000e+03</td>\n",
       "      <td>6.614000e+03</td>\n",
       "      <td>6.614000e+03</td>\n",
       "      <td>6625.000000</td>\n",
       "      <td>...</td>\n",
       "      <td>6616.000000</td>\n",
       "      <td>6617.000000</td>\n",
       "      <td>6.618000e+03</td>\n",
       "      <td>6.617000e+03</td>\n",
       "      <td>6614.000000</td>\n",
       "      <td>6614.000000</td>\n",
       "      <td>6.614000e+03</td>\n",
       "      <td>6614.000000</td>\n",
       "      <td>6633.000000</td>\n",
       "      <td>6618.000000</td>\n",
       "    </tr>\n",
       "    <tr>\n",
       "      <th>mean</th>\n",
       "      <td>4.451379</td>\n",
       "      <td>2015.505654</td>\n",
       "      <td>68.057738</td>\n",
       "      <td>3.569893e+06</td>\n",
       "      <td>1.046255e+06</td>\n",
       "      <td>1.072903</td>\n",
       "      <td>7.708754e+04</td>\n",
       "      <td>1.296146e+06</td>\n",
       "      <td>1.296146e+04</td>\n",
       "      <td>1.072151</td>\n",
       "      <td>...</td>\n",
       "      <td>53.653779</td>\n",
       "      <td>56.752138</td>\n",
       "      <td>5.157895e+06</td>\n",
       "      <td>5.198195e+06</td>\n",
       "      <td>132.112262</td>\n",
       "      <td>136.939885</td>\n",
       "      <td>2.628534e+05</td>\n",
       "      <td>114.014072</td>\n",
       "      <td>1968.038293</td>\n",
       "      <td>58811.118465</td>\n",
       "    </tr>\n",
       "    <tr>\n",
       "      <th>std</th>\n",
       "      <td>2.119207</td>\n",
       "      <td>0.500006</td>\n",
       "      <td>26.954432</td>\n",
       "      <td>1.249266e+07</td>\n",
       "      <td>3.661347e+06</td>\n",
       "      <td>1.731518</td>\n",
       "      <td>1.688085e+05</td>\n",
       "      <td>5.640409e+06</td>\n",
       "      <td>5.640409e+04</td>\n",
       "      <td>1.603208</td>\n",
       "      <td>...</td>\n",
       "      <td>54.152604</td>\n",
       "      <td>55.439443</td>\n",
       "      <td>1.813005e+07</td>\n",
       "      <td>1.493918e+07</td>\n",
       "      <td>131.968442</td>\n",
       "      <td>131.577147</td>\n",
       "      <td>3.724592e+06</td>\n",
       "      <td>478.407081</td>\n",
       "      <td>33.069476</td>\n",
       "      <td>39668.951631</td>\n",
       "    </tr>\n",
       "    <tr>\n",
       "      <th>min</th>\n",
       "      <td>1.000000</td>\n",
       "      <td>2015.000000</td>\n",
       "      <td>1.000000</td>\n",
       "      <td>-1.154170e+05</td>\n",
       "      <td>-3.382680e+04</td>\n",
       "      <td>-0.020000</td>\n",
       "      <td>5.656000e+03</td>\n",
       "      <td>0.000000e+00</td>\n",
       "      <td>0.000000e+00</td>\n",
       "      <td>0.000000</td>\n",
       "      <td>...</td>\n",
       "      <td>0.000000</td>\n",
       "      <td>0.000000</td>\n",
       "      <td>0.000000e+00</td>\n",
       "      <td>0.000000e+00</td>\n",
       "      <td>-2.000000</td>\n",
       "      <td>-2.100000</td>\n",
       "      <td>0.000000e+00</td>\n",
       "      <td>-0.800000</td>\n",
       "      <td>1900.000000</td>\n",
       "      <td>17916.000000</td>\n",
       "    </tr>\n",
       "    <tr>\n",
       "      <th>25%</th>\n",
       "      <td>3.000000</td>\n",
       "      <td>2015.000000</td>\n",
       "      <td>52.000000</td>\n",
       "      <td>6.353415e+05</td>\n",
       "      <td>1.862080e+05</td>\n",
       "      <td>0.160000</td>\n",
       "      <td>2.500000e+04</td>\n",
       "      <td>0.000000e+00</td>\n",
       "      <td>0.000000e+00</td>\n",
       "      <td>1.000000</td>\n",
       "      <td>...</td>\n",
       "      <td>27.500000</td>\n",
       "      <td>29.500000</td>\n",
       "      <td>9.154818e+05</td>\n",
       "      <td>9.771500e+05</td>\n",
       "      <td>73.900002</td>\n",
       "      <td>79.099998</td>\n",
       "      <td>0.000000e+00</td>\n",
       "      <td>9.290000</td>\n",
       "      <td>1948.000000</td>\n",
       "      <td>18390.000000</td>\n",
       "    </tr>\n",
       "    <tr>\n",
       "      <th>50%</th>\n",
       "      <td>4.000000</td>\n",
       "      <td>2016.000000</td>\n",
       "      <td>76.000000</td>\n",
       "      <td>1.161062e+06</td>\n",
       "      <td>3.402740e+05</td>\n",
       "      <td>0.530000</td>\n",
       "      <td>3.950700e+04</td>\n",
       "      <td>3.015140e+05</td>\n",
       "      <td>3.015120e+03</td>\n",
       "      <td>1.000000</td>\n",
       "      <td>...</td>\n",
       "      <td>37.799999</td>\n",
       "      <td>40.700000</td>\n",
       "      <td>1.775922e+06</td>\n",
       "      <td>1.913488e+06</td>\n",
       "      <td>95.199998</td>\n",
       "      <td>101.700000</td>\n",
       "      <td>0.000000e+00</td>\n",
       "      <td>32.905000</td>\n",
       "      <td>1974.000000</td>\n",
       "      <td>98101.000000</td>\n",
       "    </tr>\n",
       "    <tr>\n",
       "      <th>75%</th>\n",
       "      <td>7.000000</td>\n",
       "      <td>2016.000000</td>\n",
       "      <td>90.000000</td>\n",
       "      <td>2.763077e+06</td>\n",
       "      <td>8.098033e+05</td>\n",
       "      <td>1.270000</td>\n",
       "      <td>7.478375e+04</td>\n",
       "      <td>1.143296e+06</td>\n",
       "      <td>1.143296e+04</td>\n",
       "      <td>1.000000</td>\n",
       "      <td>...</td>\n",
       "      <td>59.500000</td>\n",
       "      <td>64.200000</td>\n",
       "      <td>4.108349e+06</td>\n",
       "      <td>4.345708e+06</td>\n",
       "      <td>142.300000</td>\n",
       "      <td>148.175002</td>\n",
       "      <td>0.000000e+00</td>\n",
       "      <td>91.000000</td>\n",
       "      <td>1996.000000</td>\n",
       "      <td>98115.000000</td>\n",
       "    </tr>\n",
       "    <tr>\n",
       "      <th>max</th>\n",
       "      <td>7.000000</td>\n",
       "      <td>2016.000000</td>\n",
       "      <td>100.000000</td>\n",
       "      <td>6.570744e+08</td>\n",
       "      <td>1.925775e+08</td>\n",
       "      <td>34.090000</td>\n",
       "      <td>9.320156e+06</td>\n",
       "      <td>2.979090e+08</td>\n",
       "      <td>2.979090e+06</td>\n",
       "      <td>111.000000</td>\n",
       "      <td>...</td>\n",
       "      <td>834.400024</td>\n",
       "      <td>834.400024</td>\n",
       "      <td>8.739237e+08</td>\n",
       "      <td>4.716139e+08</td>\n",
       "      <td>2620.000000</td>\n",
       "      <td>2620.000000</td>\n",
       "      <td>1.349435e+08</td>\n",
       "      <td>16870.980000</td>\n",
       "      <td>2015.000000</td>\n",
       "      <td>98272.000000</td>\n",
       "    </tr>\n",
       "  </tbody>\n",
       "</table>\n",
       "<p>8 rows × 25 columns</p>\n",
       "</div>"
      ],
      "text/plain": [
       "       CouncilDistrictCode     DataYear  ENERGYSTARScore  Electricity(kBtu)  \\\n",
       "count          6633.000000  6633.000000      5040.000000       6.614000e+03   \n",
       "mean              4.451379  2015.505654        68.057738       3.569893e+06   \n",
       "std               2.119207     0.500006        26.954432       1.249266e+07   \n",
       "min               1.000000  2015.000000         1.000000      -1.154170e+05   \n",
       "25%               3.000000  2015.000000        52.000000       6.353415e+05   \n",
       "50%               4.000000  2016.000000        76.000000       1.161062e+06   \n",
       "75%               7.000000  2016.000000        90.000000       2.763077e+06   \n",
       "max               7.000000  2016.000000       100.000000       6.570744e+08   \n",
       "\n",
       "       Electricity(kWh)  GHGEmissionsIntensity  LargestPropertyUseTypeGFA  \\\n",
       "count      6.614000e+03            6614.000000               6.480000e+03   \n",
       "mean       1.046255e+06               1.072903               7.708754e+04   \n",
       "std        3.661347e+06               1.731518               1.688085e+05   \n",
       "min       -3.382680e+04              -0.020000               5.656000e+03   \n",
       "25%        1.862080e+05               0.160000               2.500000e+04   \n",
       "50%        3.402740e+05               0.530000               3.950700e+04   \n",
       "75%        8.098033e+05               1.270000               7.478375e+04   \n",
       "max        1.925775e+08              34.090000               9.320156e+06   \n",
       "\n",
       "       NaturalGas(kBtu)  NaturalGas(therms)  NumberofBuildings      ...       \\\n",
       "count      6.614000e+03        6.614000e+03        6625.000000      ...        \n",
       "mean       1.296146e+06        1.296146e+04           1.072151      ...        \n",
       "std        5.640409e+06        5.640409e+04           1.603208      ...        \n",
       "min        0.000000e+00        0.000000e+00           0.000000      ...        \n",
       "25%        0.000000e+00        0.000000e+00           1.000000      ...        \n",
       "50%        3.015140e+05        3.015120e+03           1.000000      ...        \n",
       "75%        1.143296e+06        1.143296e+04           1.000000      ...        \n",
       "max        2.979090e+08        2.979090e+06         111.000000      ...        \n",
       "\n",
       "       SiteEUI(kBtu/sf)  SiteEUIWN(kBtu/sf)  SiteEnergyUse(kBtu)  \\\n",
       "count       6616.000000         6617.000000         6.618000e+03   \n",
       "mean          53.653779           56.752138         5.157895e+06   \n",
       "std           54.152604           55.439443         1.813005e+07   \n",
       "min            0.000000            0.000000         0.000000e+00   \n",
       "25%           27.500000           29.500000         9.154818e+05   \n",
       "50%           37.799999           40.700000         1.775922e+06   \n",
       "75%           59.500000           64.200000         4.108349e+06   \n",
       "max          834.400024          834.400024         8.739237e+08   \n",
       "\n",
       "       SiteEnergyUseWN(kBtu)  SourceEUI(kBtu/sf)  SourceEUIWN(kBtu/sf)  \\\n",
       "count           6.617000e+03         6614.000000           6614.000000   \n",
       "mean            5.198195e+06          132.112262            136.939885   \n",
       "std             1.493918e+07          131.968442            131.577147   \n",
       "min             0.000000e+00           -2.000000             -2.100000   \n",
       "25%             9.771500e+05           73.900002             79.099998   \n",
       "50%             1.913488e+06           95.199998            101.700000   \n",
       "75%             4.345708e+06          142.300000            148.175002   \n",
       "max             4.716139e+08         2620.000000           2620.000000   \n",
       "\n",
       "       SteamUse(kBtu)  TotalGHGEmissions    YearBuilt       ZipCode  \n",
       "count    6.614000e+03        6614.000000  6633.000000   6618.000000  \n",
       "mean     2.628534e+05         114.014072  1968.038293  58811.118465  \n",
       "std      3.724592e+06         478.407081    33.069476  39668.951631  \n",
       "min      0.000000e+00          -0.800000  1900.000000  17916.000000  \n",
       "25%      0.000000e+00           9.290000  1948.000000  18390.000000  \n",
       "50%      0.000000e+00          32.905000  1974.000000  98101.000000  \n",
       "75%      0.000000e+00          91.000000  1996.000000  98115.000000  \n",
       "max      1.349435e+08       16870.980000  2015.000000  98272.000000  \n",
       "\n",
       "[8 rows x 25 columns]"
      ]
     },
     "execution_count": 17,
     "metadata": {},
     "output_type": "execute_result"
    }
   ],
   "source": [
    "data.describe()"
   ]
  },
  {
   "cell_type": "markdown",
   "metadata": {},
   "source": [
    "## Division du dataset en deux parties"
   ]
  },
  {
   "cell_type": "markdown",
   "metadata": {},
   "source": [
    "Divisons le dataset en deux parties, une partie quanti et une quali, cette division est effectuées sur les variables qualitatives et celles quantitatives"
   ]
  },
  {
   "cell_type": "markdown",
   "metadata": {},
   "source": [
    "### Ajout du type de variable sur le df"
   ]
  },
  {
   "cell_type": "markdown",
   "metadata": {},
   "source": [
    "Import des données et concat "
   ]
  },
  {
   "cell_type": "code",
   "execution_count": 18,
   "metadata": {},
   "outputs": [],
   "source": [
    "type_2015 = pd.read_csv('csv_metadata/metadata2015.csv')\n",
    "type_2016 = pd.read_csv('csv_metadata/metadata2016.csv')\n",
    "type_all = pd.concat([type_2015, type_2016], join='inner').drop_duplicates()[['name', 'datatype']]"
   ]
  },
  {
   "cell_type": "markdown",
   "metadata": {},
   "source": [
    "Création d'une liste ayant le nom de la colonne et le type de données"
   ]
  },
  {
   "cell_type": "code",
   "execution_count": 19,
   "metadata": {},
   "outputs": [],
   "source": [
    "quanti = type_all[type_all['datatype'] == 'number']['name']\n",
    "quali = type_all[(type_all['datatype'] == 'text') | (type_all['datatype'] == 'location')]['name']"
   ]
  },
  {
   "cell_type": "code",
   "execution_count": 20,
   "metadata": {},
   "outputs": [],
   "source": [
    "#On crée ensuite une variable contenant les colonnes quanti et une les colonnes quali :\n",
    "col_quanti = data.columns[data.columns.isin(quanti)]\n",
    "col_quali = data.columns[data.columns.isin(quali)]\n",
    "\n",
    "#Puis on filtre les données sur ces colonnes :\n",
    "data_quanti = data[col_quanti]\n",
    "data_quali = data[col_quali]"
   ]
  },
  {
   "cell_type": "code",
   "execution_count": 21,
   "metadata": {},
   "outputs": [
    {
     "data": {
      "text/plain": [
       "(6633, 25)"
      ]
     },
     "execution_count": 21,
     "metadata": {},
     "output_type": "execute_result"
    }
   ],
   "source": [
    "data_quanti.shape"
   ]
  },
  {
   "cell_type": "markdown",
   "metadata": {},
   "source": [
    "## Traitement des valeurs abberantes"
   ]
  },
  {
   "cell_type": "markdown",
   "metadata": {},
   "source": [
    "### Valeurs minimales"
   ]
  },
  {
   "cell_type": "code",
   "execution_count": 23,
   "metadata": {},
   "outputs": [],
   "source": [
    "#for col in data_quanti.columns:\n",
    "    #data_quanti[col] = data_quanti[data_quanti[col] >= 0]"
   ]
  },
  {
   "cell_type": "markdown",
   "metadata": {},
   "source": [
    "# Analyses "
   ]
  },
  {
   "cell_type": "markdown",
   "metadata": {},
   "source": [
    "## Univariées"
   ]
  },
  {
   "cell_type": "code",
   "execution_count": null,
   "metadata": {},
   "outputs": [],
   "source": []
  },
  {
   "cell_type": "markdown",
   "metadata": {},
   "source": [
    "## Bivariées"
   ]
  },
  {
   "cell_type": "markdown",
   "metadata": {},
   "source": [
    "### Matrice de corrélation"
   ]
  },
  {
   "cell_type": "code",
   "execution_count": 24,
   "metadata": {},
   "outputs": [
    {
     "data": {
      "text/plain": [
       "\"pearson_corr = round(data_2016.corr(), 2)\\n\\nplt.figure(figsize=(20,20))\\nsns.heatmap(pearson_corr, \\n            xticklabels=pearson_corr.columns,\\n            yticklabels=pearson_corr.columns,\\n            cmap='RdBu_r',\\n            annot=True,\\n            linewidth=0.5)\\nplt.show()\""
      ]
     },
     "execution_count": 24,
     "metadata": {},
     "output_type": "execute_result"
    }
   ],
   "source": [
    "\"\"\"pearson_corr = round(data_2016.corr(), 2)\n",
    "\n",
    "plt.figure(figsize=(20,20))\n",
    "sns.heatmap(pearson_corr, \n",
    "            xticklabels=pearson_corr.columns,\n",
    "            yticklabels=pearson_corr.columns,\n",
    "            cmap='RdBu_r',\n",
    "            annot=True,\n",
    "            linewidth=0.5)\n",
    "plt.show()\"\"\""
   ]
  },
  {
   "cell_type": "code",
   "execution_count": null,
   "metadata": {},
   "outputs": [],
   "source": []
  }
 ],
 "metadata": {
  "kernelspec": {
   "display_name": "Python 3",
   "language": "python",
   "name": "python3"
  },
  "language_info": {
   "codemirror_mode": {
    "name": "ipython",
    "version": 3
   },
   "file_extension": ".py",
   "mimetype": "text/x-python",
   "name": "python",
   "nbconvert_exporter": "python",
   "pygments_lexer": "ipython3",
   "version": "3.7.1"
  },
  "toc": {
   "base_numbering": 1,
   "nav_menu": {},
   "number_sections": true,
   "sideBar": true,
   "skip_h1_title": false,
   "title_cell": "Table of Contents",
   "title_sidebar": "Contents",
   "toc_cell": false,
   "toc_position": {},
   "toc_section_display": true,
   "toc_window_display": false
  }
 },
 "nbformat": 4,
 "nbformat_minor": 2
}
