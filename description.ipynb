{
 "cells": [
  {
   "cell_type": "code",
   "execution_count": 85,
   "metadata": {},
   "outputs": [],
   "source": [
    "import numpy as np\n",
    "import pandas as pd\n",
    "import json"
   ]
  },
  {
   "cell_type": "code",
   "execution_count": 69,
   "metadata": {},
   "outputs": [],
   "source": [
    "with open('socrata_metadata_2015-building-energy-benchmarking.json', \n",
    "          encoding=\"utf8\") as json_file:\n",
    "    data_2015 = json.load(json_file)\n",
    "    \n",
    "with open('socrata_metadata_2016-building-energy-benchmarking.json', \n",
    "          encoding=\"utf8\") as json_file:\n",
    "    data_2016 = json.load(json_file)"
   ]
  },
  {
   "cell_type": "code",
   "execution_count": 79,
   "metadata": {},
   "outputs": [],
   "source": [
    "df_2015 = pd.DataFrame({\n",
    "    \"name\" : [arr[\"name\"] for arr in data_2015[\"columns\"]],\n",
    "    \"datatype\" : [arr[\"dataTypeName\"] for arr in data_2015[\"columns\"]],\n",
    "    \"fieldName\" : [arr[\"fieldName\"] for arr in data_2015[\"columns\"]],\n",
    "    \"desc\" : [arr.get('description') for arr in data_2015['columns']]\n",
    "})\n",
    "df_2015 = df_2015.set_index('name')\n",
    "\n",
    "df_2016 = pd.DataFrame({\n",
    "    \"name\" : [arr[\"name\"] for arr in data_2016[\"columns\"]],\n",
    "    \"datatype\" : [arr[\"dataTypeName\"] for arr in data_2016[\"columns\"]],\n",
    "    \"fieldName\" : [arr[\"fieldName\"] for arr in data_2016[\"columns\"]],\n",
    "    \"desc\" : [arr.get('description') for arr in data_2016['columns']]\n",
    "})\n",
    "df_2016 = df_2016.set_index('name')"
   ]
  },
  {
   "cell_type": "code",
   "execution_count": 83,
   "metadata": {},
   "outputs": [],
   "source": [
    "def search_desc(var, year):\n",
    "    if year == 2015:\n",
    "        desc = df_2015.loc[var, 'desc']\n",
    "    elif year == 2016:\n",
    "        desc = df_2016.loc[var, 'desc']\n",
    "    else:\n",
    "        desc = \"L'année entrée n'est pas la bonne, choisir 2015 ou 2016\"\n",
    "    return desc"
   ]
  },
  {
   "cell_type": "code",
   "execution_count": null,
   "metadata": {},
   "outputs": [],
   "source": []
  }
 ],
 "metadata": {
  "kernelspec": {
   "display_name": "Python 3",
   "language": "python",
   "name": "python3"
  },
  "language_info": {
   "codemirror_mode": {
    "name": "ipython",
    "version": 3
   },
   "file_extension": ".py",
   "mimetype": "text/x-python",
   "name": "python",
   "nbconvert_exporter": "python",
   "pygments_lexer": "ipython3",
   "version": "3.7.1"
  },
  "toc": {
   "base_numbering": 1,
   "nav_menu": {},
   "number_sections": true,
   "sideBar": true,
   "skip_h1_title": false,
   "title_cell": "Table of Contents",
   "title_sidebar": "Contents",
   "toc_cell": false,
   "toc_position": {},
   "toc_section_display": true,
   "toc_window_display": false
  }
 },
 "nbformat": 4,
 "nbformat_minor": 2
}
